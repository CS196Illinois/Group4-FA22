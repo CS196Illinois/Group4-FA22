{
 "cells": [
  {
   "cell_type": "code",
   "execution_count": 1,
   "metadata": {},
   "outputs": [],
   "source": [
    "import pandas\n",
    "import numpy\n",
    "import seaborn\n",
    "import math\n",
    "\n",
    "from matplotlib import pyplot\n",
    "from sklearn import preprocessing\n",
    "from sklearn.neighbors import KNeighborsClassifier\n",
    "\n",
    "df_train=pandas.read_csv(\"D:\\\\Undergraduate\\\\Courses\\\\CS 199 Supplementary Project for CS 124\\\\ML Train & Test\\\\hrv dataset\\\\data\\\\final\\\\train.csv\")\n",
    "df_test=pandas.read_csv(\"D:\\\\Undergraduate\\\\Courses\\\\CS 199 Supplementary Project for CS 124\\\\ML Train & Test\\\\hrv dataset\\\\data\\\\final\\\\test.csv\")\n",
    "preprocessing.LabelEncoder().fit(df_train[\"condition\"]).fit(df_test[\"condition\"])\n",
    "\n",
    "train_independent=df_train.iloc[:,:-1]\n",
    "train_dependent=df_train.iloc[:,-1]\n",
    "test_independent=df_test.iloc[:,:-1]\n",
    "test_dependent=df_test.iloc[:,-1]\n",
    "\n",
    "sc=preprocessing.StandardScaler()\n",
    "train_independent=sc.fit_transform(train_independent)\n",
    "test_independent=sc.transform(test_independent)\n",
    "\n",
    "test_predict=KNeighborsClassifier().fit(train_independent,train_dependent).predict(test_independent)\n",
    "\n",
    "df_test[\"predict\"]=test_predict\n",
    "conditions=df_test[\"condition\"].to_list()\n",
    "predicts=df_test[\"predict\"].to_list()\n",
    "count=0\n",
    "for i in range(len(predicts)):\n",
    "    if(conditions[i]==predicts[i]):\n",
    "        count=count+1\n",
    "print(\"Accuracy: \"+str((count/len(predicts))*100)+\"%\")"
   ]
  },
  {
   "cell_type": "code",
   "execution_count": null,
   "metadata": {},
   "outputs": [],
   "source": [
    "xs=[\"MEAN_RR\",\"HR\",\"pNN25\",\"pNN50\",\"SD1\",\"SD2\",\"MEAN_REL_RR\",\"VLF\",\"LF\",\"HF\",\"TP\",\"LF/HF\",\"HF/LF\"]\n",
    "ys=xs\n",
    "for ex in xs:\n",
    "    for ey in ys:\n",
    "        df_train.plot.scatter(x=ex,y=ey)"
   ]
  }
 ],
 "metadata": {
  "kernelspec": {
   "display_name": "Python 3.9.12 ('base')",
   "language": "python",
   "name": "python3"
  },
  "language_info": {
   "codemirror_mode": {
    "name": "ipython",
    "version": 3
   },
   "file_extension": ".py",
   "mimetype": "text/x-python",
   "name": "python",
   "nbconvert_exporter": "python",
   "pygments_lexer": "ipython3",
   "version": "3.9.12"
  },
  "orig_nbformat": 4,
  "vscode": {
   "interpreter": {
    "hash": "0d06c89cf4e72a310a2a9839f7e94ba2f64eaad7d23247498b5895d04b814e14"
   }
  }
 },
 "nbformat": 4,
 "nbformat_minor": 2
}
