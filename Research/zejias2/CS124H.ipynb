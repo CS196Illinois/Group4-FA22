{
 "cells": [
  {
   "cell_type": "code",
   "execution_count": 2,
   "id": "126ed672",
   "metadata": {},
   "outputs": [],
   "source": [
    "from mpl_toolkits.mplot3d import Axes3D\n",
    "import matplotlib.pyplot as plt # plotting\n",
    "import numpy as np # linear algebra\n",
    "import os # accessing directory structure\n",
    "import pandas as pd # data processing, CSV file I/O (e.g. pd.read_csv)\n",
    "\n",
    "import sklearn.preprocessing as preprocessing\n",
    "from sklearn.preprocessing import StandardScaler\n",
    "from sklearn.preprocessing import LabelEncoder\n",
    "from sklearn.preprocessing import OneHotEncoder"
   ]
  },
  {
   "cell_type": "code",
   "execution_count": 16,
   "id": "29c08393",
   "metadata": {},
   "outputs": [],
   "source": [
    "df_train = pd.read_csv('/Users/butsushi/Jupyter Notebooks/hrv dataset/data/final/train.csv')\n",
    "df_test = pd.read_csv('/Users/butsushi/Jupyter Notebooks/hrv dataset/data/final/test.csv')"
   ]
  },
  {
   "cell_type": "code",
   "execution_count": 17,
   "id": "ea182797",
   "metadata": {},
   "outputs": [
    {
     "data": {
      "text/plain": [
       "array(['no stress', 'interruption', 'time pressure'], dtype=object)"
      ]
     },
     "execution_count": 17,
     "metadata": {},
     "output_type": "execute_result"
    }
   ],
   "source": [
    "df_train['condition'].unique()"
   ]
  },
  {
   "cell_type": "code",
   "execution_count": 18,
   "id": "c08988fb",
   "metadata": {},
   "outputs": [
    {
     "name": "stdout",
     "output_type": "stream",
     "text": [
      "<class 'pandas.core.frame.DataFrame'>\n",
      "RangeIndex: 369289 entries, 0 to 369288\n",
      "Data columns (total 36 columns):\n",
      " #   Column             Non-Null Count   Dtype  \n",
      "---  ------             --------------   -----  \n",
      " 0   MEAN_RR            369289 non-null  float64\n",
      " 1   MEDIAN_RR          369289 non-null  float64\n",
      " 2   SDRR               369289 non-null  float64\n",
      " 3   RMSSD              369289 non-null  float64\n",
      " 4   SDSD               369289 non-null  float64\n",
      " 5   SDRR_RMSSD         369289 non-null  float64\n",
      " 6   HR                 369289 non-null  float64\n",
      " 7   pNN25              369289 non-null  float64\n",
      " 8   pNN50              369289 non-null  float64\n",
      " 9   SD1                369289 non-null  float64\n",
      " 10  SD2                369289 non-null  float64\n",
      " 11  KURT               369289 non-null  float64\n",
      " 12  SKEW               369289 non-null  float64\n",
      " 13  MEAN_REL_RR        369289 non-null  float64\n",
      " 14  MEDIAN_REL_RR      369289 non-null  float64\n",
      " 15  SDRR_REL_RR        369289 non-null  float64\n",
      " 16  RMSSD_REL_RR       369289 non-null  float64\n",
      " 17  SDSD_REL_RR        369289 non-null  float64\n",
      " 18  SDRR_RMSSD_REL_RR  369289 non-null  float64\n",
      " 19  KURT_REL_RR        369289 non-null  float64\n",
      " 20  SKEW_REL_RR        369289 non-null  float64\n",
      " 21  VLF                369289 non-null  float64\n",
      " 22  VLF_PCT            369289 non-null  float64\n",
      " 23  LF                 369289 non-null  float64\n",
      " 24  LF_PCT             369289 non-null  float64\n",
      " 25  LF_NU              369289 non-null  float64\n",
      " 26  HF                 369289 non-null  float64\n",
      " 27  HF_PCT             369289 non-null  float64\n",
      " 28  HF_NU              369289 non-null  float64\n",
      " 29  TP                 369289 non-null  float64\n",
      " 30  LF_HF              369289 non-null  float64\n",
      " 31  HF_LF              369289 non-null  float64\n",
      " 32  sampen             369289 non-null  float64\n",
      " 33  higuci             369289 non-null  float64\n",
      " 34  datasetId          369289 non-null  int64  \n",
      " 35  condition          369289 non-null  object \n",
      "dtypes: float64(34), int64(1), object(1)\n",
      "memory usage: 101.4+ MB\n"
     ]
    },
    {
     "data": {
      "text/plain": [
       "None"
      ]
     },
     "metadata": {},
     "output_type": "display_data"
    }
   ],
   "source": [
    "#check if there is any missing value in the datasets\n",
    "display(df_train.info())"
   ]
  },
  {
   "cell_type": "code",
   "execution_count": 19,
   "id": "f9e99613",
   "metadata": {},
   "outputs": [],
   "source": [
    "# Distribution graphs (histogram/bar graph) of column data\n",
    "def plotPerColumnDistribution(df, nGraphShown, nGraphPerRow):\n",
    "    nunique = df.nunique()\n",
    "    df = df[[col for col in df if nunique[col] > 1 and nunique[col] < 50]] # For displaying purposes, pick columns that have between 1 and 50 unique values\n",
    "    nRow, nCol = df.shape\n",
    "    columnNames = list(df)\n",
    "    nGraphRow = (nCol + nGraphPerRow - 1) / nGraphPerRow\n",
    "    plt.figure(num = None, figsize = (6 * nGraphPerRow, 8 * nGraphRow), dpi = 80, facecolor = 'w', edgecolor = 'k')\n",
    "    for i in range(min(nCol, nGraphShown)):\n",
    "        plt.subplot(nGraphRow, nGraphPerRow, i + 1)\n",
    "        columnDf = df.iloc[:, i]\n",
    "        if (not np.issubdtype(type(columnDf.iloc[0]), np.number)):\n",
    "            valueCounts = columnDf.value_counts()\n",
    "            valueCounts.plot.bar()\n",
    "        else:\n",
    "            columnDf.hist()\n",
    "        plt.ylabel('counts')\n",
    "        plt.xticks(rotation = 90)\n",
    "        plt.title(f'{columnNames[i]} (column {i})')\n",
    "    plt.tight_layout(pad = 1.0, w_pad = 1.0, h_pad = 1.0)\n",
    "    plt.show()"
   ]
  },
  {
   "cell_type": "code",
   "execution_count": 12,
   "id": "747f7c35",
   "metadata": {},
   "outputs": [],
   "source": [
    "# plotPerColumnDistribution(df_train, 36, 1)"
   ]
  },
  {
   "cell_type": "code",
   "execution_count": 23,
   "id": "ac4e512f",
   "metadata": {},
   "outputs": [],
   "source": [
    "#encode the labels\n",
    "tmp = LabelEncoder()\n",
    "df_train['condition'] = tmp.fit_transform(df_train['condition'])\n",
    "df_test['condition'] = tmp.fit_transform(df_test['condition'])"
   ]
  },
  {
   "cell_type": "code",
   "execution_count": null,
   "id": "593a36ea",
   "metadata": {},
   "outputs": [],
   "source": []
  },
  {
   "cell_type": "code",
   "execution_count": 24,
   "id": "6f17c1f3",
   "metadata": {},
   "outputs": [],
   "source": [
    "X_train, y_train, X_test, y_test = df_train.iloc[:, :-1].values, df_train.iloc[:, -1].values, df_test.iloc[:, :-1].values, df_test.iloc[:,-1].values"
   ]
  },
  {
   "cell_type": "code",
   "execution_count": 25,
   "id": "2ce8549e",
   "metadata": {},
   "outputs": [],
   "source": [
    "from sklearn.preprocessing import StandardScaler\n",
    "sc = StandardScaler()\n",
    "X_train = sc.fit_transform(X_train)\n",
    "X_test = sc.transform(X_test)"
   ]
  },
  {
   "cell_type": "code",
   "execution_count": null,
   "id": "9466973b",
   "metadata": {},
   "outputs": [],
   "source": [
    "from sklearn.ensemble import RandomForestRegressor\n",
    "\n",
    "regressor = RandomForestRegressor(n_estimators=20, random_state=0)\n",
    "regressor.fit(X_train, y_train)\n",
    "y_pred = regressor.predict(X_test)"
   ]
  },
  {
   "cell_type": "code",
   "execution_count": null,
   "id": "f084b81b",
   "metadata": {},
   "outputs": [],
   "source": [
    "from sklearn import metrics\n",
    "\n",
    "print('Mean Absolute Error:', metrics.mean_absolute_error(y_test, y_pred))\n",
    "print('Mean Squared Error:', metrics.mean_squared_error(y_test, y_pred))\n",
    "print('Root Mean Squared Error:', np.sqrt(metrics.mean_squared_error(y_test, y_pred)))"
   ]
  },
  {
   "cell_type": "code",
   "execution_count": null,
   "id": "f21425b5",
   "metadata": {},
   "outputs": [],
   "source": []
  }
 ],
 "metadata": {
  "kernelspec": {
   "display_name": "Python 3 (ipykernel)",
   "language": "python",
   "name": "python3"
  },
  "language_info": {
   "codemirror_mode": {
    "name": "ipython",
    "version": 3
   },
   "file_extension": ".py",
   "mimetype": "text/x-python",
   "name": "python",
   "nbconvert_exporter": "python",
   "pygments_lexer": "ipython3",
   "version": "3.9.12"
  }
 },
 "nbformat": 4,
 "nbformat_minor": 5
}
